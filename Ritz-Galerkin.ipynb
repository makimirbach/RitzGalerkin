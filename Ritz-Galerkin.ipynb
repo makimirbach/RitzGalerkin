{
 "cells": [
  {
   "cell_type": "markdown",
   "metadata": {},
   "source": [
    "**Ritz-Galerkin method** - Visualisation of approximate solutions given different sets of approach functions\n",
    "T. Mirbach, 15.06.2020\n",
    "\n"
   ]
  },
  {
   "cell_type": "code",
   "execution_count": 2,
   "metadata": {},
   "outputs": [],
   "source": [
    "import numpy as np\n",
    "import matplotlib.pyplot as plt\n",
    "\n",
    "from sympy.parsing.sympy_parser import parse_expr\n",
    "from sympy.plotting import plot\n",
    "from sympy import symbols\n",
    "from sympy import init_printing\n",
    "init_printing()\n",
    "from sympy import *\n",
    "import sympy\n",
    "import re"
   ]
  },
  {
   "cell_type": "code",
   "execution_count": 20,
   "metadata": {
    "scrolled": true
   },
   "outputs": [],
   "source": [
    "#lin (or constant) interpolation\n",
    "def preparation(x0,y0,x1=None, y1=None):\n",
    "    if (x1 is None):\n",
    "        fn = parse_expr(str(y0))\n",
    "    else:\n",
    "        m = (y1-y0)/(x1-x0)\n",
    "        fn = parse_expr(str(y0) + \"+\" +  str(m) + \"*(x-\" + str(x0) + \")\")\n",
    "    return fn\n",
    "\n",
    "# u = u_0 + \\tilde v\n",
    "# u_0 satisfies bc on u\n",
    "def get_u0(x0,y0,p0,x1,y1,p1):\n",
    "    if not p0 and not p1:\n",
    "        u0 = preparation(x0,y0,x1,y1)\n",
    "    elif not p1 and p0:\n",
    "        u0 = preparation(x1,y1)\n",
    "    elif not p0 and p1:\n",
    "        u0 = preparation(x0,y0)\n",
    "    else:\n",
    "        u0 = parse_expr(\"0.0\")\n",
    "    return u0\n",
    "    \n",
    "    \n",
    "#Variations Equation; returns F(v) and A(u,v) forall u,v\\in V\n",
    "def var_eq(a1,a0,x0,y0,p0,x1,y1,p1,f,u,up,v,vp,a2):\n",
    "    #value from partial integration\n",
    "    if p0 and p1:\n",
    "        add = y0*v.evalf(subs={\"x\":x0})-y1*v.evalf(subs={\"x\":x1})\n",
    "    elif p0 and not p1:\n",
    "        add = y0*v.evalf(subs={\"x\":x0})\n",
    "    elif not p0 and p1:\n",
    "        add = -y1*v.evalf(subs={\"x\":x1})\n",
    "    else:\n",
    "        add = 0\n",
    "    \n",
    "    intF = f*v\n",
    "    F_indef = parse_expr(str(intF.integrate()))\n",
    "    F = F_indef.evalf(subs={\"x\":x1}) - F_indef.evalf(subs={\"x\":x0})+a2*add\n",
    "    intA = ((a1*up + a0*u)*v - a2*up*vp)\n",
    "    if intA == 0:\n",
    "        A = 0\n",
    "    else:\n",
    "        A_indef = parse_expr(str(intA.integrate(x)))\n",
    "        A = A_indef.evalf(subs={\"x\":x1})-A_indef.evalf(subs={\"x\":x0})\n",
    "    \n",
    "    return [F, A]\n",
    "\n",
    "\n",
    "def get_les(a1,a0,x0,y0,p0,x1,y1,p1,f,u0,V,a2):\n",
    "    n = len(V)\n",
    "    ma = np.zeros((n,n))\n",
    "    vec = np.zeros((n))\n",
    "    for i in range(n):\n",
    "        d1 = parse_expr(str(V[i].diff()))     \n",
    "        vec[i] = var_eq(a1,a0,x0,y0,p0,x1,y1,p1,f,V[i],d1,V[i],d1,a2)[0] #anything for u, up\n",
    "        # subtract A(u0,vi)\n",
    "        du = parse_expr(str(u0.diff()))\n",
    "        vec[i] = vec[i] - var_eq(a1,a0,x0,y0,p0,x1,y1,p1,f,u0,du,V[i],d1,a2)[1]\n",
    "        for j in range(n):\n",
    "            d2 = parse_expr(str(V[j].diff()))           \n",
    "            ma[j,i] = var_eq(a1,a0,x0,y0,p0,x1,y1,p1,f,V[i],d1,V[j],d2,a2)[1] \n",
    "    return [ma,vec]\n",
    "\n",
    "def get_sol_fct(sol,V):\n",
    "    n = len(sol)\n",
    "    f = 0\n",
    "    for i in range(n):\n",
    "        f = f+ (sol[i]*V[i])\n",
    "    return parse_expr(str(f))\n",
    "\n",
    "def get_sol_fct_round(sol,V):\n",
    "    n = len(sol)\n",
    "    f = 0\n",
    "    for i in range(n):\n",
    "        f = f+ (round(sol[i],2)*V[i])\n",
    "    return parse_expr(str(f))\n",
    "\n",
    "def get_deq(a1,a0,f,a2=1):\n",
    "    u = Function('u')\n",
    "    x = Symbol('x')\n",
    "    up = u(x).diff(x)\n",
    "    upp = u(x).diff(x,2)\n",
    "    diffeq = a2 * upp(x) + a1 * up(x) + a0 * u(x)\n",
    "    return diffeq\n",
    "\n",
    "def pretty_label(fct):\n",
    "    # convert sympy function to latex string\n",
    "    fct_str = sympy.latex(fct)\n",
    "    \n",
    "    # round all decimal numbers in function string to have 2 digits\n",
    "    simpledec = re.compile(r\"\\d*\\.\\d+\")\n",
    "    fct_str = re.sub(simpledec, lambda m: \"{:.2f}\".format(float(m.group())), fct_str)\n",
    "\n",
    "    # replace digits if not needed\n",
    "    fct_str = fct_str.replace(\".00\", \"\")\n",
    "    return latex(fct_str)\n",
    "\n",
    "def fct_to_str(fct, V):\n",
    "    pretty_V = []\n",
    "    \n",
    "    #round\n",
    "    for v in V:\n",
    "        pretty_V.append(sympy.latex(v)) \n",
    "    fct_str = pretty_label(fct)\n",
    "    # format output string\n",
    "    return  f\"${fct_str}$ with $V =\\\\left\\\\{{ {', '.join(pretty_V)}\\\\right\\\\}}$\""
   ]
  },
  {
   "cell_type": "code",
   "execution_count": 22,
   "metadata": {},
   "outputs": [],
   "source": [
    "#main\n",
    "def ritz_galerkin(a1,a0,x0,y0,p0,x1,y1,p1,f,V,col='red',a2=1):\n",
    "    #get u0\n",
    "    u0 = get_u0(x0,y0,p0,x1,y1,p1)\n",
    "    #get LES\n",
    "    les = get_les(a1,a0,x0,y0,p0,x1,y1,p1,f,u0,V,a2)\n",
    "    #solve LES\n",
    "    sol = np.linalg.inv(les[0]).dot(les[1])\n",
    "    #get 'solution'\n",
    "    fct = get_sol_fct(sol, V) + u0\n",
    "    fct_round = get_sol_fct_round(sol, V) + u0\n",
    "    #plot solution in color col\n",
    "    p = plot(fct, (x,x0,x1),show=False,line_color=col,legend=True)\n",
    "    p[0].label = fct_to_str(fct, V)#\"$\" + latex(fct_round) + \"$ with V = \" +str(V)\n",
    "    return (fct,p)\n",
    "\n",
    "def exact(diffeq,x0,y0,p0,x1,y1,p1,a2):\n",
    "    sol = dsolve(diffeq,u(x)).rhs\n",
    "    solp = sol.diff(x,1)\n",
    "    #boundary conditions\n",
    "    if not p0 and not p1:\n",
    "        if a2 == 0:\n",
    "            constants = solve([sol.subs(x,x0)-y0])\n",
    "        else:\n",
    "            constants = solve([sol.subs(x,x0)-y0, sol.subs(x, x1) - y1])\n",
    "    if not p0 and p1:\n",
    "        if a2 == 0:\n",
    "            constants = solve([sol.subs(x,x0)-y0])\n",
    "        else:\n",
    "            constants = solve([sol.subs(x,x0)-y0, solp.subs(x, x1) - y1])\n",
    "    final_answer = sol.subs(constants)\n",
    "    return final_answer"
   ]
  },
  {
   "cell_type": "markdown",
   "metadata": {},
   "source": [
    "Enter DEQ here: add right hand side f in between the quotes. You might use exp(x), sin(x), cos(x)\n",
    "\n",
    "\n",
    "For the boundary conditions, np.exp(x) etc. \n",
    "If condition i is on u, p_i is False. Its True for a condition on u'.\n"
   ]
  },
  {
   "cell_type": "code",
   "execution_count": 13,
   "metadata": {},
   "outputs": [],
   "source": [
    "#inhomogeneous part\n",
    "f = parse_expr(\"74*cos(3*x) + x**2\")\n",
    "#Lu = a2*u'' + a1*u' + a0*u, (a2 = 1)\n",
    "a2 = 4\n",
    "a1 = 0\n",
    "a0 = -1\n",
    "#boundary conditions: False - on u; True - on u'\n",
    "x0 = -np.pi\n",
    "y0 = 10\n",
    "p0 = False\n",
    "x1 = np.pi\n",
    "y1 = 10\n",
    "p1 = False"
   ]
  },
  {
   "cell_type": "markdown",
   "metadata": {},
   "source": [
    "Enter approach functions v_i and sets of them V_i\n",
    "Hier findet die Eingabe der Ansatzfunktionen statt. Wie bei f zwischen den Gänsefüßchen.\n",
    "pl1, pl2, pl3 sind dann die Plots, die aus dem Ritz-Galerkin-Verfahren mit der entsprechenden Menge von Ansatzfunktionen herauskommen. Diese müssen weiter unten dann zum Plot pl1 hinzugefügt werden. Es werden nicht immer alle v_i verwendet, nur die in den Mengen V_i, mit denen Ritz_Galerkin aufgerufen wird.\n",
    "\n",
    "Die Ausgabe über dem Bild sind die Näherungslösung mit mehr Nachkommastellen. Für die Beschriftung in der Grafik sind die Koeffizienten auf zwei Nachkommastellen gerundet. "
   ]
  },
  {
   "cell_type": "code",
   "execution_count": 23,
   "metadata": {
    "scrolled": true
   },
   "outputs": [
    {
     "name": "stdout",
     "output_type": "stream",
     "text": [
      "-x**2 + 5.15499487603704*sqrt(exp(x)) - 2*cos(3*x) - 8 + 5.15499487603704/sqrt(exp(x))\n"
     ]
    },
    {
     "data": {
      "text/plain": [
       "<Figure size 1296x360 with 0 Axes>"
      ]
     },
     "metadata": {},
     "output_type": "display_data"
    },
    {
     "data": {
      "image/png": "[encoded data removed]",
      "text/plain": [
       "<Figure size 432x288 with 1 Axes>"
      ]
     },
     "metadata": {
      "needs_background": "light"
     },
     "output_type": "display_data"
    }
   ],
   "source": [
    "\n",
    "\n",
    "#choice of approach functions\n",
    "v0 = parse_expr(\"x**2 - pi**2\")\n",
    "v1 = parse_expr(\"cos(3*x)+1\")\n",
    "v2 = parse_expr(\"x\")\n",
    "v3 = parse_expr(\"x**2-x\")\n",
    "v4 = parse_expr(\"cos(2*x)-1\")\n",
    "v5 = parse_expr(\"x-5\")\n",
    "v6 = parse_expr(\"x\")\n",
    "v7 = parse_expr(\"x**3\")\n",
    "V0 = [v0]\n",
    "V = [v1]\n",
    "V1 = [v1,v0]\n",
    "V2 = [v2]\n",
    "V3 = [v2,v3]\n",
    "V4 = [v2,v3,v7]\n",
    "\n",
    "\n",
    "plt.figure(figsize=(18,5))\n",
    "\n",
    "#find exact solution\n",
    "u = Function('u')\n",
    "x = Symbol('x')\n",
    "real_sol = exact(a2*u(x).diff(x,2)+a1*u(x).diff(x,1) + a0*u(x)-f, x0,y0,p0,x1,y1,p1,a2)\n",
    "print(real_sol)\n",
    "pr = plot(real_sol, (x,x0,x1),show = False, line_color = 'green', legend = True)\n",
    "pr[0].label = \"$\"+latex(pretty_label(real_sol))+\"$\"\n",
    "\n",
    "f_1,p_1 = ritz_galerkin(a1,a0,x0,y0,p0,x1,y1,p1,f,V0,a2=a2)\n",
    "f_2,p_2 = ritz_galerkin(a1,a0,x0,y0,p0,x1,y1,p1,f,V,col ='blue',a2=a2)\n",
    "f_3,p_3 = ritz_galerkin(a1,a0,x0,y0,p0,x1,y1,p1,f,V1,col ='yellow',a2=a2)\n",
    "\n",
    "pr.append(p_1[0])\n",
    "pr.append(p_2[0]) \n",
    "pr.append(p_3[0])\n",
    "\n",
    "pr.show() # show plot with everything inside\n"
   ]
  },
  {
   "cell_type": "code",
   "execution_count": 6,
   "metadata": {},
   "outputs": [],
   "source": [
    "#Backup\n",
    "#inhomogeneous part\n",
    "f = parse_expr(\"5+8*x - 2*x**2\")\n",
    "#Lu = a2*u'' + a1*u' + a0*u, (a2 = 1)\n",
    "a2 = 1\n",
    "a1 = 2\n",
    "a0 = -1\n",
    "#boundary conditions: False - on u; True - on u'\n",
    "x0 = 0\n",
    "y0 = -1\n",
    "p0 = False\n",
    "x1 = 1\n",
    "y1 = 1\n",
    "p1 = False"
   ]
  },
  {
   "cell_type": "code",
   "execution_count": null,
   "metadata": {},
   "outputs": [],
   "source": []
  },
  {
   "cell_type": "code",
   "execution_count": null,
   "metadata": {},
   "outputs": [],
   "source": []
  },
  {
   "cell_type": "code",
   "execution_count": null,
   "metadata": {},
   "outputs": [],
   "source": []
  },
  {
   "cell_type": "code",
   "execution_count": null,
   "metadata": {},
   "outputs": [],
   "source": []
  }
 ],
 "metadata": {
  "file_extension": ".py",
  "kernelspec": {
   "display_name": "Python 3",
   "language": "python",
   "name": "python3"
  },
  "language_info": {
   "codemirror_mode": {
    "name": "ipython",
    "version": 3
   },
   "file_extension": ".py",
   "mimetype": "text/x-python",
   "name": "python",
   "nbconvert_exporter": "python",
   "pygments_lexer": "ipython3",
   "version": "3.6.5"
  },
  "mimetype": "text/x-python",
  "name": "python",
  "npconvert_exporter": "python",
  "pygments_lexer": "ipython3",
  "version": 3
 },
 "nbformat": 4,
 "nbformat_minor": 2
}
