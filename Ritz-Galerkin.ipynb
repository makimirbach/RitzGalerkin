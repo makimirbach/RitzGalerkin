{
 "cells": [
  {
   "cell_type": "markdown",
   "metadata": {},
   "source": [
    "**Ritz-Galerkin method** - Visualisation of approximate solutions given different sets of approach functions\n",
    "T. Mirbach, 15.06.2020\n",
    "\n"
   ]
  },
  {
   "cell_type": "code",
   "execution_count": 27,
   "metadata": {},
   "outputs": [],
   "source": [
    "import numpy as np\n",
    "import matplotlib.pyplot as plt\n",
    "%matplotlib inline\n",
    "\n",
    "from sympy.parsing.sympy_parser import parse_expr\n",
    "from sympy.plotting import plot\n",
    "from sympy import symbols\n",
    "from sympy import init_printing\n",
    "init_printing()\n",
    "from sympy import *\n",
    "\n",
    "\n",
    "\n",
    "import rg_algorithm as rg"
   ]
  },
  {
   "cell_type": "markdown",
   "metadata": {},
   "source": [
    "Enter DEQ here: add right hand side f in between the quotes. You might use exp(x), sin(x), cos(x)\n",
    "\n",
    "\n",
    "For the boundary conditions, np.exp(x) etc. \n",
    "If condition i is on u, p_i is False. Its True for a condition on u'.\n"
   ]
  },
  {
   "cell_type": "code",
   "execution_count": 25,
   "metadata": {},
   "outputs": [],
   "source": [
    "#inhomogeneous part\n",
    "f = parse_expr(\"74*cos(3*x) + x**2\")\n",
    "#Lu = a2*u'' + a1*u' + a0*u, (a2 = 1)\n",
    "a2 = 4\n",
    "a1 = 0\n",
    "a0 = -1\n",
    "#boundary conditions: False - on u; True - on u'\n",
    "x0 = -np.pi\n",
    "y0 = 10\n",
    "p0 = False\n",
    "x1 = np.pi\n",
    "y1 = 10\n",
    "p1 = False"
   ]
  },
  {
   "cell_type": "markdown",
   "metadata": {},
   "source": [
    "Enter approach functions v_i and sets of them V_i\n",
    "p_i are the desired plots.\n",
    "\n",
    "Labels of the plot are rounded on two digits."
   ]
  },
  {
   "cell_type": "code",
   "execution_count": 30,
   "metadata": {
    "scrolled": true
   },
   "outputs": [
    {
     "data": {
      "text/plain": [
       "<Figure size 1296x360 with 0 Axes>"
      ]
     },
     "metadata": {},
     "output_type": "display_data"
    },
    {
     "data": {
      "image/png": "[encoded data removed]",
      "text/plain": [
       "<Figure size 432x288 with 1 Axes>"
      ]
     },
     "metadata": {
      "needs_background": "light"
     },
     "output_type": "display_data"
    }
   ],
   "source": [
    "#choice of approach functions\n",
    "v0 = parse_expr(\"x**2 - pi**2\")\n",
    "v1 = parse_expr(\"cos(3*x)+1\")\n",
    "v2 = parse_expr(\"x\")\n",
    "v3 = parse_expr(\"x**2-x\")\n",
    "v4 = parse_expr(\"cos(2*x)-1\")\n",
    "v5 = parse_expr(\"x-5\")\n",
    "v6 = parse_expr(\"sin(x)\")\n",
    "v7 = parse_expr(\"x**3\")\n",
    "v8 = parse_expr(\"x**2\")\n",
    "v9 = parse_expr(\"cos(x)-1\")\n",
    "V0 = [v0]\n",
    "V = [v1]\n",
    "V1 = [v1,v0]\n",
    "V2 = [v2]\n",
    "V3 = [v3]\n",
    "V4 = [v2,v3,v7]\n",
    "V5 = [v8]\n",
    "V6 = [v2,v8,v9]\n",
    "\n",
    "\n",
    "plt.figure(figsize=(18,5))\n",
    "\n",
    "#find exact solution\n",
    "u = Function('u')\n",
    "x = Symbol('x')\n",
    "real_sol = rg.exact(u,x,a2*u(x).diff(x,2)+a1*u(x).diff(x,1) + a0*u(x)-f, x0,y0,p0,x1,y1,p1,a2)\n",
    "pr = plot(real_sol, (x,x0,x1),show = False, line_color = 'green', legend = True)\n",
    "pr[0].label = \"$\"+latex(rg.pretty_label(real_sol))+\"$ (exact)\"\n",
    "\n",
    "f_1,p_1 = rg.ritz_galerkin(x,a1,a0,x0,y0,p0,x1,y1,p1,f,V2,a2=a2)\n",
    "#f_2,p_2 = rg.ritz_galerkin(x,a1,a0,x0,y0,p0,x1,y1,p1,f,V,col ='blue',a2=a2)\n",
    "#f_3,p_3 = rg.ritz_galerkin(x,a1,a0,x0,y0,p0,x1,y1,p1,f,V1,col ='yellow',a2=a2)\n",
    "\n",
    "pr.append(p_1[0])\n",
    "#pr.append(p_2[0]) \n",
    "#pr.append(p_3[0])\n",
    "\n",
    "pr.show() # show plot with everything inside\n"
   ]
  },
  {
   "cell_type": "code",
   "execution_count": 22,
   "metadata": {},
   "outputs": [],
   "source": [
    "#Example 3.2.3\n",
    "#inhomogeneous part\n",
    "f = parse_expr(\"5+8*x - 2*x**2\")\n",
    "#Lu = a2*u'' + a1*u' + a0*u, (a2 = 1)\n",
    "a2 = 1\n",
    "a1 = 2\n",
    "a0 = -1\n",
    "#boundary conditions: False - on u; True - on u'\n",
    "x0 = 0\n",
    "y0 = -1\n",
    "p0 = False\n",
    "x1 = 1\n",
    "y1 = 1\n",
    "p1 = False"
   ]
  },
  {
   "cell_type": "code",
   "execution_count": 29,
   "metadata": {},
   "outputs": [
    {
     "name": "stdout",
     "output_type": "stream",
     "text": [
      "7.38905609893065\n"
     ]
    }
   ],
   "source": [
    "#Exercise 3.2.4\n",
    "#inhomogeneous part\n",
    "f = parse_expr(\"2*exp(x)\")\n",
    "#Lu = a2*u'' + a1*u' + a0*u, (a2 = 1)\n",
    "a2 = 1\n",
    "a1 = 0\n",
    "a0 = 1\n",
    "#boundary conditions: False - on u; True - on u'\n",
    "x0 = 0\n",
    "y0 = 1\n",
    "p0 = False\n",
    "x1 = 2\n",
    "y1 = np.exp(2)\n",
    "p1 = True"
   ]
  },
  {
   "cell_type": "code",
   "execution_count": null,
   "metadata": {},
   "outputs": [],
   "source": []
  },
  {
   "cell_type": "code",
   "execution_count": null,
   "metadata": {},
   "outputs": [],
   "source": []
  },
  {
   "cell_type": "code",
   "execution_count": null,
   "metadata": {},
   "outputs": [],
   "source": []
  }
 ],
 "metadata": {
  "file_extension": ".py",
  "kernelspec": {
   "display_name": "Python 3",
   "language": "python",
   "name": "python3"
  },
  "language_info": {
   "codemirror_mode": {
    "name": "ipython",
    "version": 3
   },
   "file_extension": ".py",
   "mimetype": "text/x-python",
   "name": "python",
   "nbconvert_exporter": "python",
   "pygments_lexer": "ipython3",
   "version": "3.6.5"
  },
  "mimetype": "text/x-python",
  "name": "python",
  "npconvert_exporter": "python",
  "pygments_lexer": "ipython3",
  "version": 3
 },
 "nbformat": 4,
 "nbformat_minor": 2
}
