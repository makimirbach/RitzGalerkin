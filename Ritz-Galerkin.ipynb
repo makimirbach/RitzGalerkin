{
 "cells": [
  {
   "cell_type": "markdown",
   "metadata": {},
   "source": [
    "**Ritz-Galerkin method** - Visualisation of approximate solutions given different sets of approach functions\n",
    "T. Mirbach, 15.06.2020\n",
    "\n"
   ]
  },
  {
   "cell_type": "code",
   "execution_count": 13,
   "metadata": {},
   "outputs": [],
   "source": [
    "import numpy as np\n",
    "import matplotlib.pyplot as plt\n",
    "\n",
    "from sympy.parsing.sympy_parser import parse_expr\n",
    "from sympy.plotting import plot\n",
    "from sympy import symbols\n",
    "from sympy import init_printing\n",
    "init_printing()\n",
    "from sympy import *\n",
    "import sympy\n",
    "import re\n",
    "\n",
    "import rg_algorithm"
   ]
  },
  {
   "cell_type": "code",
   "execution_count": 20,
   "metadata": {
    "scrolled": true
   },
   "outputs": [],
   "source": []
  },
  {
   "cell_type": "code",
   "execution_count": 22,
   "metadata": {},
   "outputs": [],
   "source": []
  },
  {
   "cell_type": "markdown",
   "metadata": {},
   "source": [
    "Enter DEQ here: add right hand side f in between the quotes. You might use exp(x), sin(x), cos(x)\n",
    "\n",
    "\n",
    "For the boundary conditions, np.exp(x) etc. \n",
    "If condition i is on u, p_i is False. Its True for a condition on u'.\n"
   ]
  },
  {
   "cell_type": "code",
   "execution_count": 14,
   "metadata": {},
   "outputs": [],
   "source": [
    "#inhomogeneous part\n",
    "f = parse_expr(\"74*cos(3*x) + x**2\")\n",
    "#Lu = a2*u'' + a1*u' + a0*u, (a2 = 1)\n",
    "a2 = 4\n",
    "a1 = 0\n",
    "a0 = -1\n",
    "#boundary conditions: False - on u; True - on u'\n",
    "x0 = -np.pi\n",
    "y0 = 10\n",
    "p0 = False\n",
    "x1 = np.pi\n",
    "y1 = 10\n",
    "p1 = False"
   ]
  },
  {
   "cell_type": "markdown",
   "metadata": {},
   "source": [
    "Enter approach functions v_i and sets of them V_i\n",
    "Hier findet die Eingabe der Ansatzfunktionen statt. Wie bei f zwischen den Gänsefüßchen.\n",
    "pl1, pl2, pl3 sind dann die Plots, die aus dem Ritz-Galerkin-Verfahren mit der entsprechenden Menge von Ansatzfunktionen herauskommen. Diese müssen weiter unten dann zum Plot pl1 hinzugefügt werden. Es werden nicht immer alle v_i verwendet, nur die in den Mengen V_i, mit denen Ritz_Galerkin aufgerufen wird.\n",
    "\n",
    "Die Ausgabe über dem Bild sind die Näherungslösung mit mehr Nachkommastellen. Für die Beschriftung in der Grafik sind die Koeffizienten auf zwei Nachkommastellen gerundet. "
   ]
  },
  {
   "cell_type": "code",
   "execution_count": 15,
   "metadata": {
    "scrolled": true
   },
   "outputs": [
    {
     "ename": "NameError",
     "evalue": "name 'exact' is not defined",
     "output_type": "error",
     "traceback": [
      "\u001b[1;31m---------------------------------------------------------------------------\u001b[0m",
      "\u001b[1;31mNameError\u001b[0m                                 Traceback (most recent call last)",
      "\u001b[1;32m<ipython-input-15-c74cd26c28b6>\u001b[0m in \u001b[0;36m<module>\u001b[1;34m\u001b[0m\n\u001b[0;32m     21\u001b[0m \u001b[0mu\u001b[0m \u001b[1;33m=\u001b[0m \u001b[0mFunction\u001b[0m\u001b[1;33m(\u001b[0m\u001b[1;34m'u'\u001b[0m\u001b[1;33m)\u001b[0m\u001b[1;33m\u001b[0m\u001b[0m\n\u001b[0;32m     22\u001b[0m \u001b[0mx\u001b[0m \u001b[1;33m=\u001b[0m \u001b[0mSymbol\u001b[0m\u001b[1;33m(\u001b[0m\u001b[1;34m'x'\u001b[0m\u001b[1;33m)\u001b[0m\u001b[1;33m\u001b[0m\u001b[0m\n\u001b[1;32m---> 23\u001b[1;33m \u001b[0mreal_sol\u001b[0m \u001b[1;33m=\u001b[0m \u001b[0mexact\u001b[0m\u001b[1;33m(\u001b[0m\u001b[0ma2\u001b[0m\u001b[1;33m*\u001b[0m\u001b[0mu\u001b[0m\u001b[1;33m(\u001b[0m\u001b[0mx\u001b[0m\u001b[1;33m)\u001b[0m\u001b[1;33m.\u001b[0m\u001b[0mdiff\u001b[0m\u001b[1;33m(\u001b[0m\u001b[0mx\u001b[0m\u001b[1;33m,\u001b[0m\u001b[1;36m2\u001b[0m\u001b[1;33m)\u001b[0m\u001b[1;33m+\u001b[0m\u001b[0ma1\u001b[0m\u001b[1;33m*\u001b[0m\u001b[0mu\u001b[0m\u001b[1;33m(\u001b[0m\u001b[0mx\u001b[0m\u001b[1;33m)\u001b[0m\u001b[1;33m.\u001b[0m\u001b[0mdiff\u001b[0m\u001b[1;33m(\u001b[0m\u001b[0mx\u001b[0m\u001b[1;33m,\u001b[0m\u001b[1;36m1\u001b[0m\u001b[1;33m)\u001b[0m \u001b[1;33m+\u001b[0m \u001b[0ma0\u001b[0m\u001b[1;33m*\u001b[0m\u001b[0mu\u001b[0m\u001b[1;33m(\u001b[0m\u001b[0mx\u001b[0m\u001b[1;33m)\u001b[0m\u001b[1;33m-\u001b[0m\u001b[0mf\u001b[0m\u001b[1;33m,\u001b[0m \u001b[0mx0\u001b[0m\u001b[1;33m,\u001b[0m\u001b[0my0\u001b[0m\u001b[1;33m,\u001b[0m\u001b[0mp0\u001b[0m\u001b[1;33m,\u001b[0m\u001b[0mx1\u001b[0m\u001b[1;33m,\u001b[0m\u001b[0my1\u001b[0m\u001b[1;33m,\u001b[0m\u001b[0mp1\u001b[0m\u001b[1;33m,\u001b[0m\u001b[0ma2\u001b[0m\u001b[1;33m)\u001b[0m\u001b[1;33m\u001b[0m\u001b[0m\n\u001b[0m\u001b[0;32m     24\u001b[0m \u001b[0mprint\u001b[0m\u001b[1;33m(\u001b[0m\u001b[0mreal_sol\u001b[0m\u001b[1;33m)\u001b[0m\u001b[1;33m\u001b[0m\u001b[0m\n\u001b[0;32m     25\u001b[0m \u001b[0mpr\u001b[0m \u001b[1;33m=\u001b[0m \u001b[0mplot\u001b[0m\u001b[1;33m(\u001b[0m\u001b[0mreal_sol\u001b[0m\u001b[1;33m,\u001b[0m \u001b[1;33m(\u001b[0m\u001b[0mx\u001b[0m\u001b[1;33m,\u001b[0m\u001b[0mx0\u001b[0m\u001b[1;33m,\u001b[0m\u001b[0mx1\u001b[0m\u001b[1;33m)\u001b[0m\u001b[1;33m,\u001b[0m\u001b[0mshow\u001b[0m \u001b[1;33m=\u001b[0m \u001b[1;32mFalse\u001b[0m\u001b[1;33m,\u001b[0m \u001b[0mline_color\u001b[0m \u001b[1;33m=\u001b[0m \u001b[1;34m'green'\u001b[0m\u001b[1;33m,\u001b[0m \u001b[0mlegend\u001b[0m \u001b[1;33m=\u001b[0m \u001b[1;32mTrue\u001b[0m\u001b[1;33m)\u001b[0m\u001b[1;33m\u001b[0m\u001b[0m\n",
      "\u001b[1;31mNameError\u001b[0m: name 'exact' is not defined"
     ]
    },
    {
     "data": {
      "text/plain": [
       "<Figure size 1296x360 with 0 Axes>"
      ]
     },
     "metadata": {},
     "output_type": "display_data"
    }
   ],
   "source": [
    "\n",
    "\n",
    "#choice of approach functions\n",
    "v0 = parse_expr(\"x**2 - pi**2\")\n",
    "v1 = parse_expr(\"cos(3*x)+1\")\n",
    "v2 = parse_expr(\"x\")\n",
    "v3 = parse_expr(\"x**2-x\")\n",
    "v4 = parse_expr(\"cos(2*x)-1\")\n",
    "v5 = parse_expr(\"x-5\")\n",
    "v6 = parse_expr(\"x\")\n",
    "v7 = parse_expr(\"x**3\")\n",
    "V0 = [v0]\n",
    "V = [v1]\n",
    "V1 = [v1,v0]\n",
    "V2 = [v2]\n",
    "V3 = [v2,v3]\n",
    "V4 = [v2,v3,v7]\n",
    "\n",
    "\n",
    "plt.figure(figsize=(18,5))\n",
    "\n",
    "#find exact solution\n",
    "u = Function('u')\n",
    "x = Symbol('x')\n",
    "real_sol = exact(a2*u(x).diff(x,2)+a1*u(x).diff(x,1) + a0*u(x)-f, x0,y0,p0,x1,y1,p1,a2)\n",
    "print(real_sol)\n",
    "pr = plot(real_sol, (x,x0,x1),show = False, line_color = 'green', legend = True)\n",
    "pr[0].label = \"$\"+latex(pretty_label(real_sol))+\"$\"\n",
    "\n",
    "f_1,p_1 = ritz_galerkin(a1,a0,x0,y0,p0,x1,y1,p1,f,V0,a2=a2)\n",
    "f_2,p_2 = ritz_galerkin(a1,a0,x0,y0,p0,x1,y1,p1,f,V,col ='blue',a2=a2)\n",
    "f_3,p_3 = ritz_galerkin(a1,a0,x0,y0,p0,x1,y1,p1,f,V1,col ='yellow',a2=a2)\n",
    "\n",
    "pr.append(p_1[0])\n",
    "pr.append(p_2[0]) \n",
    "pr.append(p_3[0])\n",
    "\n",
    "pr.show() # show plot with everything inside\n"
   ]
  },
  {
   "cell_type": "code",
   "execution_count": 6,
   "metadata": {},
   "outputs": [],
   "source": [
    "#Backup\n",
    "#inhomogeneous part\n",
    "f = parse_expr(\"5+8*x - 2*x**2\")\n",
    "#Lu = a2*u'' + a1*u' + a0*u, (a2 = 1)\n",
    "a2 = 1\n",
    "a1 = 2\n",
    "a0 = -1\n",
    "#boundary conditions: False - on u; True - on u'\n",
    "x0 = 0\n",
    "y0 = -1\n",
    "p0 = False\n",
    "x1 = 1\n",
    "y1 = 1\n",
    "p1 = False"
   ]
  },
  {
   "cell_type": "code",
   "execution_count": null,
   "metadata": {},
   "outputs": [],
   "source": []
  },
  {
   "cell_type": "code",
   "execution_count": null,
   "metadata": {},
   "outputs": [],
   "source": []
  },
  {
   "cell_type": "code",
   "execution_count": null,
   "metadata": {},
   "outputs": [],
   "source": []
  },
  {
   "cell_type": "code",
   "execution_count": null,
   "metadata": {},
   "outputs": [],
   "source": []
  }
 ],
 "metadata": {
  "file_extension": ".py",
  "kernelspec": {
   "display_name": "Python 3",
   "language": "python",
   "name": "python3"
  },
  "language_info": {
   "codemirror_mode": {
    "name": "ipython",
    "version": 3
   },
   "file_extension": ".py",
   "mimetype": "text/x-python",
   "name": "python",
   "nbconvert_exporter": "python",
   "pygments_lexer": "ipython3",
   "version": "3.6.5"
  },
  "mimetype": "text/x-python",
  "name": "python",
  "npconvert_exporter": "python",
  "pygments_lexer": "ipython3",
  "version": 3
 },
 "nbformat": 4,
 "nbformat_minor": 2
}
